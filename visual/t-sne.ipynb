{
 "cells": [
  {
   "cell_type": "code",
   "execution_count": null,
   "metadata": {},
   "outputs": [],
   "source": [
    "import numpy as np\n",
    "from numpy import linalg\n",
    "from numpy.linalg import norm\n",
    "\n",
    "from scipy.spatial.distance import squareform,pdist\n",
    "\n",
    "\n",
    "import sklearn\n",
    "from sklearn.manifold import TSNE\n",
    "from sklearn.datasets import load_digits\n",
    "from sklearn.preprocessing import scale\n",
    "\n",
    "\n",
    "from sklearn.metrics.pairwise import pairwise_distances\n",
    "from sklearn.manifold.t_sne import (_joint_probabilities,_kl_divergence)\n",
    "# from sklearn.utils.extmath import _ravel\n",
    "RS=2018\n",
    "\n",
    "import matplotlib.pyplot as plt\n",
    "import matplotlib.patheffects as PathEffects\n",
    "import matplotlib\n",
    "%matplotlib inline"
   ]
  },
  {
   "cell_type": "code",
   "execution_count": null,
   "metadata": {
    "scrolled": true
   },
   "outputs": [],
   "source": [
    "import seaborn as sns\n",
    "sns.set_style('darkgrid')\n",
    "sns.set_palette('muted')\n",
    "sns.set_context(\"notebook\",font_scale=1.5,rc={\"lines.linewidth\":2.5})\n",
    "from moviepy.video.io.bindings import mplfig_to_npimage\n",
    "import moviepy.editor as mpy"
   ]
  },
  {
   "cell_type": "code",
   "execution_count": null,
   "metadata": {},
   "outputs": [],
   "source": [
    "digits=load_digits()"
   ]
  },
  {
   "cell_type": "code",
   "execution_count": null,
   "metadata": {},
   "outputs": [],
   "source": [
    "digits.data.shape"
   ]
  },
  {
   "cell_type": "code",
   "execution_count": null,
   "metadata": {},
   "outputs": [],
   "source": [
    "print(digits['DESCR'])"
   ]
  },
  {
   "cell_type": "code",
   "execution_count": null,
   "metadata": {},
   "outputs": [],
   "source": [
    "nrows,ncols=2,5\n",
    "plt.figure(figsize=(6,3))\n",
    "plt.gray()\n",
    "for i in range (ncols*nrows):\n",
    "    ax=plt.subplot(nrows,ncols,i+1)\n",
    "    ax.matshow(digits.images[i,...])\n",
    "    plt.xticks([]);plt.yticks([])\n",
    "    plt.title(digits.target[i])\n",
    "plt.savefig('images/digits-generated.png',dpi=150)"
   ]
  },
  {
   "cell_type": "code",
   "execution_count": null,
   "metadata": {},
   "outputs": [],
   "source": [
    "X=np.vstack([digits.data[digits.target==i] for i in range(10)])\n",
    "y=np.hstack([digits.target[digits.target==i] for i in range(10)])\n",
    "digits_proj=TSNE(random_state=RS).fit_transform(X)\n",
    "\n"
   ]
  },
  {
   "cell_type": "code",
   "execution_count": null,
   "metadata": {},
   "outputs": [],
   "source": [
    "def scatter(x,colors):\n",
    "    palette=np.array(sns.color_palette(\"hls\",10))\n",
    "    f=plt.figure(figsize=(8,8))\n",
    "    ax=plt.subplot(aspect='equal')\n",
    "    sc=ax.scatter(x[:,0],x[:,1],lw=0,s=40,c=palette[colors.astype(np.int)])\n",
    "    plt.xlim(-25,25)\n",
    "    plt.ylim(-25,25)\n",
    "    ax.axis('off')\n",
    "    ax.axis('tight')\n",
    "    txts=[]\n",
    "    for i in range(10):\n",
    "        xtext,ytext=np.median(x[colors==i,:],axis=0)\n",
    "        txt=ax.text(xtext,ytext,str(i),fontsize=14)\n",
    "        txt.set_path_effects([PathEffects.Stroke(linewidth=5,foreground='w'),PathEffects.Normal()])\n",
    "        txts.append(txt)\n",
    "    return f,ax,sc,txts\n"
   ]
  },
  {
   "cell_type": "code",
   "execution_count": null,
   "metadata": {},
   "outputs": [],
   "source": [
    "scatter(digits_proj,y)\n",
    "plt.savefig('images/digits_tsne-generated.png',dpi=120)"
   ]
  },
  {
   "cell_type": "code",
   "execution_count": null,
   "metadata": {},
   "outputs": [],
   "source": [
    "from load_c9 import C9"
   ]
  },
  {
   "cell_type": "code",
   "execution_count": null,
   "metadata": {},
   "outputs": [],
   "source": [
    "c9=C9()\n",
    "data=c9.load_c9(is_shuffle=True)"
   ]
  },
  {
   "cell_type": "code",
   "execution_count": null,
   "metadata": {},
   "outputs": [],
   "source": [
    "X=data[\"data\"].reshape(c9.__len__(),-1)\n",
    "X.shape"
   ]
  },
  {
   "cell_type": "code",
   "execution_count": null,
   "metadata": {},
   "outputs": [],
   "source": [
    "plt.gray()\n",
    "plt.imshow(data[\"data\"][0])\n",
    "plt.show"
   ]
  },
  {
   "cell_type": "code",
   "execution_count": null,
   "metadata": {},
   "outputs": [],
   "source": [
    "nrows,ncols=2,5\n",
    "plt.figure(figsize=(6,3))\n",
    "plt.gray()\n",
    "for i in range (ncols*nrows):\n",
    "    ax=plt.subplot(nrows,ncols,i+1)\n",
    "    ax.matshow(data[\"data\"][i,...])\n",
    "    plt.xticks([]);plt.yticks([])\n",
    "    plt.title(c9.classes[data[\"target\"][i]])\n",
    "plt.savefig('images/digits-generated.png',dpi=150)\n"
   ]
  },
  {
   "cell_type": "code",
   "execution_count": null,
   "metadata": {},
   "outputs": [],
   "source": [
    "from sklearn.preprocessing import StandardScaler\n",
    "from mpl_toolkits."
   ]
  },
  {
   "cell_type": "code",
   "execution_count": null,
   "metadata": {},
   "outputs": [],
   "source": [
    "X=np.vstack([X[data[\"target\"]==i] for i in range(9)])\n",
    "X.shape\n"
   ]
  },
  {
   "cell_type": "code",
   "execution_count": null,
   "metadata": {},
   "outputs": [],
   "source": [
    "y=np.hstack([data[\"target\"][data[\"target\"]==i] for i in range(10)])\n",
    "y[0]"
   ]
  },
  {
   "cell_type": "code",
   "execution_count": null,
   "metadata": {},
   "outputs": [],
   "source": [
    "# y=[c9.classes[i] for i in y ]\n",
    "y[0]"
   ]
  },
  {
   "cell_type": "code",
   "execution_count": null,
   "metadata": {},
   "outputs": [],
   "source": [
    "c9_proj=TSNE(random_state=RS,n_components=2,verbose=1,n_iter=1000,n_jobs=12).fit_transform(X)"
   ]
  },
  {
   "cell_type": "code",
   "execution_count": null,
   "metadata": {},
   "outputs": [],
   "source": [
    "def scatter(x,colors):\n",
    "    palette=np.array(sns.color_palette(\"hls\",9))\n",
    "    f=plt.figure(figsize=(8,8))\n",
    "    ax=plt.subplot(aspect='equal')\n",
    "    sc=ax.scatter(x[:,0],x[:,1],lw=0,s=40,c=palette[colors.astype(np.int)])\n",
    "    plt.xlim(-25,25)\n",
    "    plt.ylim(-25,25)\n",
    "    ax.axis('off')\n",
    "    ax.axis('tight')\n",
    "    txts=[]\n",
    "    for i in range(9):\n",
    "        xtext,ytext=np.median(x[colors==i,:],axis=0)\n",
    "        txt=ax.text(xtext,ytext,c9.classes[i],fontsize=14)\n",
    "        txt.set_path_effects([PathEffects.Stroke(linewidth=5,foreground='w'),PathEffects.Normal()])\n",
    "        txts.append(txt)\n",
    "    return f,ax,sc,txts"
   ]
  },
  {
   "cell_type": "code",
   "execution_count": null,
   "metadata": {},
   "outputs": [],
   "source": [
    "scatter(c9_proj,y)"
   ]
  },
  {
   "cell_type": "code",
   "execution_count": null,
   "metadata": {},
   "outputs": [],
   "source": []
  }
 ],
 "metadata": {
  "kernelspec": {
   "display_name": "Python 3",
   "language": "python",
   "name": "python3"
  },
  "language_info": {
   "codemirror_mode": {
    "name": "ipython",
    "version": 3
   },
   "file_extension": ".py",
   "mimetype": "text/x-python",
   "name": "python",
   "nbconvert_exporter": "python",
   "pygments_lexer": "ipython3",
   "version": "3.6.6"
  }
 },
 "nbformat": 4,
 "nbformat_minor": 1
}
